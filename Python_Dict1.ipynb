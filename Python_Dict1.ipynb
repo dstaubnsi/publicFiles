{
 "cells": [
  {
   "cell_type": "markdown",
   "metadata": {
    "colab_type": "text",
    "id": "RDbgdt7rIpli"
   },
   "source": [
    "# Python : les dictionnaires"
   ]
  },
  {
   "cell_type": "markdown",
   "metadata": {
    "colab_type": "text",
    "id": "qIRl-jebIvpb"
   },
   "source": [
    "Un dictionnaire en python est une sorte de liste mais au lieu d'utiliser des index , on utilise des **clés**."
   ]
  },
  {
   "cell_type": "markdown",
   "metadata": {
    "colab_type": "text",
    "id": "BYykt22_JCIb"
   },
   "source": [
    "Un dictionnaire est de la forme { clé1: val1, clé2: val2, ... }\n",
    " \n",
    "* Un dictionnaire est encadré par des accolades.\n",
    "*   Les clés sont non modifiables et peuvent être un entier, une chaîne, un tuple...\n",
    "* Les valeurs sont de n'importe quel type (nombre, chaîne, liste, dictionnaire, ...).\n",
    "*   La longeur d’un dictionnaire est le nombre de couples clé:valeur qu’il contient.\n",
    "\n",
    "\n"
   ]
  },
  {
   "cell_type": "markdown",
   "metadata": {
    "colab_type": "text",
    "id": "fU5ruCULTuG1"
   },
   "source": [
    "Créer un dictionnaire  :"
   ]
  },
  {
   "cell_type": "code",
   "execution_count": 0,
   "metadata": {
    "colab": {},
    "colab_type": "code",
    "id": "_6UVy3gsTxVQ"
   },
   "outputs": [],
   "source": [
    "ages = {'Jean':35, 'Sylvie':28, 'Henri': 14}"
   ]
  },
  {
   "cell_type": "markdown",
   "metadata": {
    "colab_type": "text",
    "id": "xoh7EijMUV21"
   },
   "source": [
    "Ajouter des éléments dans un dictionnaire :"
   ]
  },
  {
   "cell_type": "code",
   "execution_count": 0,
   "metadata": {
    "colab": {
     "base_uri": "https://localhost:8080/",
     "height": 34
    },
    "colab_type": "code",
    "id": "ZsEFDOpCUc4J",
    "outputId": "976ad1d5-7efe-4bb3-c5d9-8312cbd68691"
   },
   "outputs": [
    {
     "name": "stdout",
     "output_type": "stream",
     "text": [
      "{'Jean': 35, 'Sylvie': 28, 'Henri': 14, 'Paul': 57}\n"
     ]
    }
   ],
   "source": [
    "ages['Paul'] = 57\n",
    "print(ages)"
   ]
  },
  {
   "cell_type": "markdown",
   "metadata": {
    "colab_type": "text",
    "id": "CZKrtZBrUkGJ"
   },
   "source": [
    "Récupérer une valeur dans un dictionnaire à partir d'une clé :"
   ]
  },
  {
   "cell_type": "code",
   "execution_count": 0,
   "metadata": {
    "colab": {
     "base_uri": "https://localhost:8080/",
     "height": 34
    },
    "colab_type": "code",
    "id": "bH9feZ-dU9mX",
    "outputId": "eabf98a7-260b-4742-cdf0-7e5131a9022c"
   },
   "outputs": [
    {
     "data": {
      "text/plain": [
       "14"
      ]
     },
     "execution_count": 56,
     "metadata": {
      "tags": []
     },
     "output_type": "execute_result"
    }
   ],
   "source": [
    "ages.get('Henri')"
   ]
  },
  {
   "cell_type": "markdown",
   "metadata": {
    "colab_type": "text",
    "id": "ngRkrUHBVKHQ"
   },
   "source": [
    "Comment vérifier la présence d'une clé dans un dictionnaire ?"
   ]
  },
  {
   "cell_type": "code",
   "execution_count": 0,
   "metadata": {
    "colab": {
     "base_uri": "https://localhost:8080/",
     "height": 34
    },
    "colab_type": "code",
    "id": "9KvT-uqIVSrh",
    "outputId": "58f746d7-5802-4fc3-e67f-b28451a24563"
   },
   "outputs": [
    {
     "data": {
      "text/plain": [
       "True"
      ]
     },
     "execution_count": 57,
     "metadata": {
      "tags": []
     },
     "output_type": "execute_result"
    }
   ],
   "source": [
    "\"Sylvie\" in ages\n"
   ]
  },
  {
   "cell_type": "code",
   "execution_count": 0,
   "metadata": {
    "colab": {
     "base_uri": "https://localhost:8080/",
     "height": 34
    },
    "colab_type": "code",
    "id": "R9-_JIJYa6d9",
    "outputId": "108b9850-f666-416b-b27a-a2b84b2932b5"
   },
   "outputs": [
    {
     "data": {
      "text/plain": [
       "False"
      ]
     },
     "execution_count": 58,
     "metadata": {
      "tags": []
     },
     "output_type": "execute_result"
    }
   ],
   "source": [
    "\"Silvie\" in ages"
   ]
  },
  {
   "cell_type": "markdown",
   "metadata": {
    "colab_type": "text",
    "id": "I54nxRoDbBog"
   },
   "source": [
    "Afficher toutes les clés du dictionnaire:"
   ]
  },
  {
   "cell_type": "code",
   "execution_count": 0,
   "metadata": {
    "colab": {
     "base_uri": "https://localhost:8080/",
     "height": 34
    },
    "colab_type": "code",
    "id": "zy0ReSZHbKGI",
    "outputId": "eef5eab3-7438-465e-da6f-1f54ad3fe707"
   },
   "outputs": [
    {
     "data": {
      "text/plain": [
       "dict_keys(['Jean', 'Sylvie', 'Henri', 'Paul'])"
      ]
     },
     "execution_count": 59,
     "metadata": {
      "tags": []
     },
     "output_type": "execute_result"
    }
   ],
   "source": [
    "ages.keys()"
   ]
  },
  {
   "cell_type": "markdown",
   "metadata": {
    "colab_type": "text",
    "id": "0AWw_Sz-bQxR"
   },
   "source": [
    "Afficher toutes les valeurs du dictionnaire:"
   ]
  },
  {
   "cell_type": "code",
   "execution_count": 0,
   "metadata": {
    "colab": {
     "base_uri": "https://localhost:8080/",
     "height": 34
    },
    "colab_type": "code",
    "id": "jdRYf7O6bUOL",
    "outputId": "cec04439-7e9a-446e-c619-12761fdea330"
   },
   "outputs": [
    {
     "data": {
      "text/plain": [
       "dict_values([35, 28, 14, 57])"
      ]
     },
     "execution_count": 60,
     "metadata": {
      "tags": []
     },
     "output_type": "execute_result"
    }
   ],
   "source": [
    "ages.values()"
   ]
  },
  {
   "cell_type": "markdown",
   "metadata": {
    "colab_type": "text",
    "id": "-oizWGhLbuLV"
   },
   "source": [
    "Supprimer un élément dans un dictionnaire :"
   ]
  },
  {
   "cell_type": "code",
   "execution_count": 0,
   "metadata": {
    "colab": {
     "base_uri": "https://localhost:8080/",
     "height": 34
    },
    "colab_type": "code",
    "id": "mlMtQYV0btnR",
    "outputId": "0d66bf04-e042-4cb7-e4f6-cb0c86300035"
   },
   "outputs": [
    {
     "name": "stdout",
     "output_type": "stream",
     "text": [
      "{'Jean': 35, 'Sylvie': 28, 'Paul': 57}\n"
     ]
    }
   ],
   "source": [
    "del ages['Henri']\n",
    "print(ages)"
   ]
  },
  {
   "cell_type": "markdown",
   "metadata": {
    "colab_type": "text",
    "id": "ETzQ2teEcPZB"
   },
   "source": [
    "Parcourir les clés d'un dictionnaire :\n",
    "\n"
   ]
  },
  {
   "cell_type": "code",
   "execution_count": 0,
   "metadata": {
    "colab": {
     "base_uri": "https://localhost:8080/",
     "height": 68
    },
    "colab_type": "code",
    "id": "gWedeOi_dd_J",
    "outputId": "233c41db-a9db-491b-bcce-ec4409f6d7e8"
   },
   "outputs": [
    {
     "name": "stdout",
     "output_type": "stream",
     "text": [
      "Jean\n",
      "Sylvie\n",
      "Paul\n"
     ]
    }
   ],
   "source": [
    "for personne in ages.keys() :\n",
    "  print(personne)"
   ]
  },
  {
   "cell_type": "markdown",
   "metadata": {
    "colab_type": "text",
    "id": "wetk6n95d4CG"
   },
   "source": [
    "Parcourir les valeurs d'un dictionnaire :\n"
   ]
  },
  {
   "cell_type": "code",
   "execution_count": 0,
   "metadata": {
    "colab": {
     "base_uri": "https://localhost:8080/",
     "height": 68
    },
    "colab_type": "code",
    "id": "Mc_eBTjZd52E",
    "outputId": "6d020812-7091-43a2-95c9-5ddcea4ee0be"
   },
   "outputs": [
    {
     "name": "stdout",
     "output_type": "stream",
     "text": [
      "35\n",
      "28\n",
      "57\n"
     ]
    }
   ],
   "source": [
    "for age in ages.values() :\n",
    "  print(age)"
   ]
  },
  {
   "cell_type": "markdown",
   "metadata": {
    "colab_type": "text",
    "id": "vI1OkeG0en7I"
   },
   "source": [
    "Parcourir les éléments d'un dictionnaire :"
   ]
  },
  {
   "cell_type": "code",
   "execution_count": 0,
   "metadata": {
    "colab": {
     "base_uri": "https://localhost:8080/",
     "height": 68
    },
    "colab_type": "code",
    "id": "Chbt4viDeqZA",
    "outputId": "38023237-9252-41ad-f1e8-895d384c0abb"
   },
   "outputs": [
    {
     "name": "stdout",
     "output_type": "stream",
     "text": [
      "('Jean', 35)\n",
      "('Sylvie', 28)\n",
      "('Paul', 57)\n"
     ]
    }
   ],
   "source": [
    "for element in ages.items() :\n",
    "  print (element)"
   ]
  },
  {
   "cell_type": "markdown",
   "metadata": {
    "colab_type": "text",
    "id": "vuj4FWQEe9r6"
   },
   "source": [
    "Clés et valeurs peuvent avoir différents types :"
   ]
  },
  {
   "cell_type": "code",
   "execution_count": 0,
   "metadata": {
    "colab": {
     "base_uri": "https://localhost:8080/",
     "height": 34
    },
    "colab_type": "code",
    "id": "6pjEMMFzfDRQ",
    "outputId": "5c4e433f-9f99-4ef5-8704-de76c40e0aee"
   },
   "outputs": [
    {
     "name": "stdout",
     "output_type": "stream",
     "text": [
      "souris Paris 7 5.25\n"
     ]
    }
   ],
   "source": [
    "a = {'France':'Paris', 4:'souris', (1,1):5.25, 'L':[5,7,9]}\n",
    "print(  a[4]   , a['France'] , a['L'][1] , a[(1,1)])\n"
   ]
  },
  {
   "cell_type": "markdown",
   "metadata": {
    "colab_type": "text",
    "id": "09aMDS6Sgm_V"
   },
   "source": [
    "# Exercice 1"
   ]
  },
  {
   "cell_type": "markdown",
   "metadata": {
    "colab_type": "text",
    "id": "1BPGiSjdgruy"
   },
   "source": [
    "Que fait ce programme ?"
   ]
  },
  {
   "cell_type": "code",
   "execution_count": 0,
   "metadata": {
    "colab": {},
    "colab_type": "code",
    "id": "ggsGxZ5JgwvC"
   },
   "outputs": [],
   "source": [
    "lettresScrabble = {'A':1 ,'B':3 ,'C':3 ,'D':2 ,'E':1 ,\n",
    "                   'F':4 ,'G':2 ,'H':4 ,'I':1 ,'J':8 ,\n",
    "                   'K':10 ,'L':1 ,'M':2 ,'N':1 ,'O':1 ,\n",
    "                   'P':3 ,'Q':8 ,'R':1 ,'S':1 ,'T':1 ,\n",
    "                   'U':1 ,'V':4 ,'W':10 ,'X':10 ,'Y':10 ,'Z':10}\n",
    "mot = input('Entrez votre mot: ')\n",
    "valeur = 0\n",
    "for lettre in mot :\n",
    "  valeur += lettresScrabble[lettre]\n",
    "print(valeur)\n"
   ]
  },
  {
   "cell_type": "markdown",
   "metadata": {
    "colab_type": "text",
    "id": "hJqc5TmIlAU8"
   },
   "source": [
    "# Exercice 2"
   ]
  },
  {
   "cell_type": "markdown",
   "metadata": {
    "colab_type": "text",
    "id": "AaADBOxSlFRX"
   },
   "source": [
    "On souhaite faire le dépouillement d'une urne après une élection.\n",
    "On dispose d'une liste où tous les votes ont été inscrits. Trois candidats s'opposaient : M. Durand, M. Dupont et Mme Martin.\n",
    "A vous de creer un dictionnaire qui donnera pour chaque candidat le nombre de votes qu'il a obtenu. On souhaite réaliser un programme qui pourra être utilisé pour d'autres élections."
   ]
  },
  {
   "cell_type": "code",
   "execution_count": 0,
   "metadata": {
    "colab": {},
    "colab_type": "code",
    "id": "CS1pkLM7l8ym"
   },
   "outputs": [],
   "source": [
    "urne = ['Durand', 'Durand', 'Durand', 'Durand',\n",
    "         'Dupont', 'Durand', 'Durand', 'Dupont',\n",
    "         'Dupont', 'Durand', 'Dupont', 'Durand',\n",
    "         'Durand', 'Durand', 'Martin', 'Dupont',\n",
    "         'Martin', 'Martin', 'Durand', 'Dupont']"
   ]
  }
 ],
 "metadata": {
  "colab": {
   "collapsed_sections": [],
   "name": "Python_Dict1.ipynb",
   "provenance": []
  },
  "kernelspec": {
   "display_name": "Python 3",
   "language": "python",
   "name": "python3"
  },
  "language_info": {
   "codemirror_mode": {
    "name": "ipython",
    "version": 3
   },
   "file_extension": ".py",
   "mimetype": "text/x-python",
   "name": "python",
   "nbconvert_exporter": "python",
   "pygments_lexer": "ipython3",
   "version": "3.7.4"
  }
 },
 "nbformat": 4,
 "nbformat_minor": 1
}
